import pandas as pd
import matplotlib.pyplot as plt
import os

# Example: count classes
image_dir = '../data/raw'
labels = os.listdir(image_dir)
print(f"Found {len(labels)} species")

# You can extend with image samples, histograms etc.

